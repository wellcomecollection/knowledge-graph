{
 "cells": [
  {
   "cell_type": "code",
   "execution_count": null,
   "id": "e622b704-2c7a-4e65-848b-4b7ef9bfd803",
   "metadata": {},
   "outputs": [],
   "source": [
    "import json\n",
    "import os\n",
    "\n",
    "import httpx\n",
    "from elasticsearch import Elasticsearch\n",
    "from tqdm.notebook import tqdm"
   ]
  },
  {
   "cell_type": "code",
   "execution_count": null,
   "id": "e0361371-bcaa-4781-8f81-d32fe8e508ec",
   "metadata": {},
   "outputs": [],
   "source": [
    "def traverse(node, parent=None):\n",
    "    \"\"\"\n",
    "    recursively yields each node in a tree alongside its parent node (if the\n",
    "    parent exists)\n",
    "    \"\"\"\n",
    "    yield {\n",
    "        \"parent\": parent,\n",
    "        \"child\": {\"label\": node[\"label\"], \"label_type\": node[\"label_type\"]},\n",
    "    }\n",
    "\n",
    "    if node[\"children\"]:\n",
    "        for child in node[\"children\"]:\n",
    "            parent = {\"label\": node[\"label\"], \"label_type\": node[\"label_type\"]}\n",
    "            yield from traverse(child, parent)"
   ]
  },
  {
   "cell_type": "code",
   "execution_count": null,
   "id": "6e76ab55-57f2-44b9-ba9e-698798deac82",
   "metadata": {},
   "outputs": [],
   "source": [
    "es = Elasticsearch(\n",
    "    hosts=os.environ[\"ELASTIC_HOST\"],\n",
    "    http_auth=(os.environ[\"ELASTIC_USERNAME\"], os.environ[\"ELASTIC_PASSWORD\"]),\n",
    ")"
   ]
  },
  {
   "cell_type": "code",
   "execution_count": null,
   "id": "742811a4-571b-4949-ad9f-a21677f70daf",
   "metadata": {},
   "outputs": [],
   "source": [
    "data_path = \"/home/jovyan/data/desc2020.json\""
   ]
  },
  {
   "cell_type": "code",
   "execution_count": null,
   "id": "99cf59b9-260f-468f-b2ce-7ea6a37ecf9e",
   "metadata": {},
   "outputs": [],
   "source": [
    "n_lines = sum(1 for line in open(data_path))\n",
    "n_lines"
   ]
  },
  {
   "cell_type": "code",
   "execution_count": null,
   "id": "f2ae6866-b17a-4e24-bbbe-d32d1c9072bc",
   "metadata": {},
   "outputs": [],
   "source": [
    "def lines():\n",
    "    with open(data_path) as f:\n",
    "        for line in f:\n",
    "            yield json.loads(line)"
   ]
  },
  {
   "cell_type": "code",
   "execution_count": null,
   "id": "362fb5e8-a944-464e-b0b8-24bc37550aaf",
   "metadata": {},
   "outputs": [],
   "source": [
    "es.indices.delete(index=\"variant-names\", ignore=[400, 404])"
   ]
  },
  {
   "cell_type": "code",
   "execution_count": null,
   "id": "92be5c32-b564-4542-af49-dc31fefeb5e0",
   "metadata": {},
   "outputs": [],
   "source": [
    "    response = httpx.get(\n",
    "        url=\"http://enricher:80\", \n",
    "        params={\n",
    "            \"id_type\": \"mesh\",\n",
    "            \"id\": subject['id']\n",
    "        },\n",
    "        timeout=10\n",
    "    ).json()\n",
    "    response"
   ]
  },
  {
   "cell_type": "code",
   "execution_count": null,
   "id": "1a402128-7fff-4ebb-94e9-5003cfc91bb0",
   "metadata": {
    "tags": []
   },
   "outputs": [],
   "source": [
    "for subject in tqdm(lines(), total=n_lines):\n",
    "    try:\n",
    "        response = httpx.get(\n",
    "            url=\"http://enricher:80\",\n",
    "            params={\"id_type\": \"mesh\", \"id\": subject[\"id\"]},\n",
    "            timeout=10,\n",
    "        ).json()\n",
    "        variant_names = [a[\"child\"][\"label\"] for a in traverse(response)]\n",
    "        es.index(\n",
    "            index=\"variant-names\",\n",
    "            id=subject[\"id\"],\n",
    "            body={\"variant_names\": variant_names},\n",
    "        )\n",
    "    except:\n",
    "        print(f\"something went wrong with {subject['id']}\")"
   ]
  },
  {
   "cell_type": "code",
   "execution_count": null,
   "id": "3ed8db7b-d379-49d5-9ea4-46601d67cd4a",
   "metadata": {},
   "outputs": [],
   "source": []
  }
 ],
 "metadata": {
  "kernelspec": {
   "display_name": "Python 3 (ipykernel)",
   "language": "python",
   "name": "python3"
  },
  "language_info": {
   "codemirror_mode": {
    "name": "ipython",
    "version": 3
   },
   "file_extension": ".py",
   "mimetype": "text/x-python",
   "name": "python",
   "nbconvert_exporter": "python",
   "pygments_lexer": "ipython3",
   "version": "3.9.5"
  }
 },
 "nbformat": 4,
 "nbformat_minor": 5
}
