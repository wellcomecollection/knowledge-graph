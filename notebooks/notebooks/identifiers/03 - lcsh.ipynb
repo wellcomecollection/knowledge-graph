{
 "cells": [
  {
   "cell_type": "code",
   "execution_count": null,
   "id": "3a62cc5d-9f76-4078-aa8d-73e9581f7c4e",
   "metadata": {},
   "outputs": [],
   "source": [
    "import os\n",
    "import httpx\n",
    "from elasticsearch import Elasticsearch\n",
    "from tqdm.notebook import tqdm\n",
    "import json"
   ]
  },
  {
   "cell_type": "code",
   "execution_count": null,
   "id": "d057e685-e23e-4a30-a37b-4c4222875f61",
   "metadata": {},
   "outputs": [],
   "source": [
    "def traverse(node, parent=None):\n",
    "    \"\"\"\n",
    "    recursively yields each node in a tree alongside its parent node (if the\n",
    "    parent exists)\n",
    "    \"\"\"\n",
    "    yield {\n",
    "        \"parent\": parent,\n",
    "        \"child\": {\"label\": node[\"label\"], \"label_type\": node[\"label_type\"]},\n",
    "    }\n",
    "\n",
    "    if node[\"children\"]:\n",
    "        for child in node[\"children\"]:\n",
    "            parent = {\"label\": node[\"label\"], \"label_type\": node[\"label_type\"]}\n",
    "            yield from traverse(child, parent)"
   ]
  },
  {
   "cell_type": "code",
   "execution_count": null,
   "id": "7990e046-881d-43ab-b922-5f096e126499",
   "metadata": {},
   "outputs": [],
   "source": [
    "es = Elasticsearch(\n",
    "    hosts=os.environ[\"ELASTIC_HOST\"],\n",
    "    http_auth=(os.environ[\"ELASTIC_USERNAME\"], os.environ[\"ELASTIC_PASSWORD\"]),\n",
    ")"
   ]
  },
  {
   "cell_type": "code",
   "execution_count": null,
   "id": "b65c03be-23be-44d8-9c67-d6fd3dbc7feb",
   "metadata": {},
   "outputs": [],
   "source": [
    "data_path = \"/home/jovyan/data/lcsh.skos.ndjson\""
   ]
  },
  {
   "cell_type": "code",
   "execution_count": null,
   "id": "42139e4a-745f-4794-b190-a9441d89ceaf",
   "metadata": {},
   "outputs": [],
   "source": [
    "n_lines = sum(1 for line in open(data_path))\n",
    "n_lines"
   ]
  },
  {
   "cell_type": "code",
   "execution_count": null,
   "id": "980770e8-bbf8-402b-9ce1-ef062a9cd7c7",
   "metadata": {},
   "outputs": [],
   "source": [
    "def lines():\n",
    "    with open(data_path) as f:\n",
    "        for line in f:\n",
    "            yield json.loads(line)"
   ]
  },
  {
   "cell_type": "code",
   "execution_count": null,
   "id": "ec8804d3-c585-476d-8d08-ad646cbaa863",
   "metadata": {},
   "outputs": [],
   "source": [
    "subject = next(iter(lines()))\n",
    "\n",
    "subject_id = subject['@context']['about'].split('/')[-1]\n",
    "\n",
    "response = httpx.get(\n",
    "    url=\"http://enricher:80\", \n",
    "    params={\n",
    "        \"id_type\": \"lc_subjects\",\n",
    "        \"id\": subject_id\n",
    "    },\n",
    "    timeout=10\n",
    ").json()\n",
    "response"
   ]
  },
  {
   "cell_type": "code",
   "execution_count": null,
   "id": "92f60189-0224-453b-b4e4-ab4db5209520",
   "metadata": {},
   "outputs": [],
   "source": [
    "for subject in tqdm(lines(), total=n_lines):   \n",
    "    try:\n",
    "        try:\n",
    "            subject_id = subject['@context']['about'].split('/')[-1]\n",
    "        except:\n",
    "            print(f\"couldn't parse subject ID in:\\n{subject}\")\n",
    "            pass\n",
    "\n",
    "        response = httpx.get(\n",
    "            url=\"http://enricher:80\", \n",
    "            params={\n",
    "                \"id_type\": \"lc_subjects\",\n",
    "                \"id\": subject_id\n",
    "            },\n",
    "            timeout=10\n",
    "        ).json()\n",
    "        variant_names = [a['child']['label'] for a in traverse(response)]\n",
    "        es.index(\n",
    "            index=\"variant-names-lcsh\",\n",
    "            id=subject_id,\n",
    "            body={\n",
    "                \"variant_names\": variant_names\n",
    "            }\n",
    "        )\n",
    "    except:\n",
    "        print(f\"something went wrong with {subject_id}\")"
   ]
  },
  {
   "cell_type": "code",
   "execution_count": null,
   "id": "e37644c5-0b32-415a-907b-c95893cb3fcc",
   "metadata": {},
   "outputs": [],
   "source": []
  },
  {
   "cell_type": "code",
   "execution_count": null,
   "id": "eeed93af-0675-4634-9533-7b02ced567d4",
   "metadata": {},
   "outputs": [],
   "source": []
  }
 ],
 "metadata": {
  "kernelspec": {
   "display_name": "Python 3 (ipykernel)",
   "language": "python",
   "name": "python3"
  },
  "language_info": {
   "codemirror_mode": {
    "name": "ipython",
    "version": 3
   },
   "file_extension": ".py",
   "mimetype": "text/x-python",
   "name": "python",
   "nbconvert_exporter": "python",
   "pygments_lexer": "ipython3",
   "version": "3.9.5"
  }
 },
 "nbformat": 4,
 "nbformat_minor": 5
}
