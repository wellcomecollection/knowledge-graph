{
 "cells": [
  {
   "cell_type": "code",
   "execution_count": null,
   "id": "2c73752c-c4b4-4d06-8906-19f1ad134cd2",
   "metadata": {},
   "outputs": [],
   "source": [
    "from elasticsearch import Elasticsearch\n",
    "import os\n",
    "import json\n",
    "from tqdm.notebook import tqdm"
   ]
  },
  {
   "cell_type": "code",
   "execution_count": null,
   "id": "367d8e5e-70fc-4bfa-adf2-b9a9a20865c9",
   "metadata": {},
   "outputs": [],
   "source": [
    "es = Elasticsearch(\n",
    "    hosts=os.environ[\"ELASTIC_HOST\"],\n",
    "    http_auth=(os.environ[\"ELASTIC_USERNAME\"], os.environ[\"ELASTIC_PASSWORD\"]),\n",
    ")"
   ]
  },
  {
   "cell_type": "code",
   "execution_count": null,
   "id": "2ab54b08-26db-433f-9a46-6227954f79d6",
   "metadata": {},
   "outputs": [],
   "source": [
    "data_path = \"../data/works.json\""
   ]
  },
  {
   "cell_type": "code",
   "execution_count": null,
   "id": "5dc737bf-bf01-464f-9c5d-335eb6062478",
   "metadata": {},
   "outputs": [],
   "source": [
    "n_lines = sum(1 for line in open(data_path))\n",
    "n_lines"
   ]
  },
  {
   "cell_type": "code",
   "execution_count": null,
   "id": "ecb20e72-2c8b-444c-9a0f-12c8982ce800",
   "metadata": {},
   "outputs": [],
   "source": [
    "def get_lines():\n",
    "    with open(data_path) as f:\n",
    "        for line in f:\n",
    "            yield json.loads(line)\n",
    "            \n",
    "lines = get_lines()"
   ]
  },
  {
   "cell_type": "code",
   "execution_count": null,
   "id": "f5dcd965-42e9-4294-97d4-51dbf6ed2342",
   "metadata": {},
   "outputs": [],
   "source": [
    "subjects = [\n",
    "    subject['label'] \n",
    "    for line in tqdm(get_lines(), total=n_lines)\n",
    "    for subject in line['subjects']\n",
    "]"
   ]
  },
  {
   "cell_type": "code",
   "execution_count": null,
   "id": "517ffa47-16a7-49fe-a06a-8f029a97e27e",
   "metadata": {},
   "outputs": [],
   "source": [
    "from collections import Counter\n",
    "\n",
    "subject_count = Counter(subjects)"
   ]
  },
  {
   "cell_type": "code",
   "execution_count": null,
   "id": "2c7841ff-bc93-46c0-a65f-3e07cdc066e6",
   "metadata": {},
   "outputs": [],
   "source": [
    "len(subject_count)"
   ]
  },
  {
   "cell_type": "code",
   "execution_count": null,
   "id": "cbd620d9-416d-4e55-94cc-ae1f10af3ade",
   "metadata": {},
   "outputs": [],
   "source": [
    "common_subjects = subject_count.most_common(100_000)"
   ]
  },
  {
   "cell_type": "code",
   "execution_count": null,
   "id": "0687c5e7-4451-4a1a-8a7a-1c7fcf64667b",
   "metadata": {},
   "outputs": [],
   "source": [
    "a = 0\n",
    "variants = {}\n",
    "\n",
    "for subject, count in tqdm(common_subjects):\n",
    "    response = es.search(\n",
    "        index=\"variant-names\",\n",
    "        body={\n",
    "            \"query\":{\n",
    "                \"term\": {\n",
    "                    \"variant_names.keyword\": subject\n",
    "                }\n",
    "            }\n",
    "        }\n",
    "    )\n",
    "    if response['hits']['total']['value'] > 0:\n",
    "        variants[subject] = response['hits']['hits'][0]['_source']['variant_names']\n",
    "        a += 1\n",
    "    else:\n",
    "        variants[subject] = []"
   ]
  },
  {
   "cell_type": "code",
   "execution_count": null,
   "id": "1ca6e0e3-54f9-481c-9e1a-5fae1e2636e4",
   "metadata": {},
   "outputs": [],
   "source": [
    "a"
   ]
  },
  {
   "cell_type": "markdown",
   "id": "cee0a606-b85c-43bf-901b-862a46b71138",
   "metadata": {},
   "source": [
    "# assessing overlap"
   ]
  },
  {
   "cell_type": "code",
   "execution_count": null,
   "id": "a9c261d8-4196-4399-8ee9-aa15c3e371ff",
   "metadata": {},
   "outputs": [],
   "source": [
    "blah = Counter()"
   ]
  },
  {
   "cell_type": "code",
   "execution_count": null,
   "id": "7fe14d23-8f9c-431d-b98e-28d4738e740d",
   "metadata": {},
   "outputs": [],
   "source": [
    "overlap_counts = Counter()\n",
    "\n",
    "for subject, count in tqdm(common_subjects):\n",
    "    response = es.search(\n",
    "        index=\"variant-names\",\n",
    "        body={\n",
    "            \"query\":{\n",
    "                \"term\": {\n",
    "                    \"variant_names.keyword\": subject\n",
    "                }\n",
    "            }\n",
    "        }\n",
    "    )\n",
    "    if response['hits']['total']['value'] > 0:\n",
    "        overlap_counts[\n",
    "            hash(str(response['hits']['hits'][0]['_source']['variant_names']))\n",
    "        ] += 1"
   ]
  },
  {
   "cell_type": "code",
   "execution_count": null,
   "id": "edcab8a4-48c9-4b7a-998a-ed10dbb578b0",
   "metadata": {},
   "outputs": [],
   "source": [
    "total_overlap = 0\n",
    "n_overlap = 0\n",
    "\n",
    "for i, count in overlap_counts.most_common():\n",
    "    if count > 1:\n",
    "        total_overlap += count\n",
    "        n_overlap += 1\n",
    "\n",
    "total_overlap, n_overlap"
   ]
  },
  {
   "cell_type": "code",
   "execution_count": null,
   "id": "f548448e-c588-453e-9752-e511f5cd3170",
   "metadata": {},
   "outputs": [],
   "source": []
  },
  {
   "cell_type": "code",
   "execution_count": null,
   "id": "85f50b03-1a25-4332-b2b0-122bf690d53f",
   "metadata": {},
   "outputs": [],
   "source": []
  }
 ],
 "metadata": {
  "kernelspec": {
   "display_name": "Python 3 (ipykernel)",
   "language": "python",
   "name": "python3"
  },
  "language_info": {
   "codemirror_mode": {
    "name": "ipython",
    "version": 3
   },
   "file_extension": ".py",
   "mimetype": "text/x-python",
   "name": "python",
   "nbconvert_exporter": "python",
   "pygments_lexer": "ipython3",
   "version": "3.9.5"
  }
 },
 "nbformat": 4,
 "nbformat_minor": 5
}
