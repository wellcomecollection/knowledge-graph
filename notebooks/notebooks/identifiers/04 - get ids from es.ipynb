{
 "cells": [
  {
   "cell_type": "code",
   "execution_count": null,
   "id": "e2f68759-198c-468a-88ed-3a87de0af888",
   "metadata": {},
   "outputs": [],
   "source": [
    "import json\n",
    "import math\n",
    "import os\n",
    "\n",
    "import httpx\n",
    "import pandas as pd\n",
    "from elasticsearch import Elasticsearch\n",
    "from tqdm.notebook import tqdm"
   ]
  },
  {
   "cell_type": "code",
   "execution_count": null,
   "id": "f39e3d75-51ff-4e7b-985e-b3f079c01f98",
   "metadata": {},
   "outputs": [],
   "source": [
    "local_es = Elasticsearch(\n",
    "    hosts=os.environ[\"ELASTIC_HOST\"],\n",
    "    http_auth=(os.environ[\"ELASTIC_USERNAME\"], os.environ[\"ELASTIC_PASSWORD\"]),\n",
    ")\n",
    "\n",
    "remote_es = Elasticsearch(\n",
    "    hosts=os.environ[\"REMOTE_ELASTIC_HOST\"],\n",
    "    http_auth=(\n",
    "        os.environ[\"REMOTE_ELASTIC_USERNAME\"],\n",
    "        os.environ[\"REMOTE_ELASTIC_PASSWORD\"],\n",
    "    ),\n",
    ")"
   ]
  },
  {
   "cell_type": "code",
   "execution_count": null,
   "id": "c209388f-06f0-4237-8376-396d790c8139",
   "metadata": {},
   "outputs": [],
   "source": [
    "pit = remote_es.open_point_in_time(index=\"works-indexed-2021-07-19\", keep_alive=\"1m\")\n",
    "\n",
    "response = remote_es.search(\n",
    "    body={\n",
    "        \"query\": {\"exists\": {\"field\": \"data.subjects\"}},\n",
    "        \"sort\": [{\"_id\": {\"order\": \"asc\"}}],\n",
    "        \"size\": 10_000,\n",
    "        \"pit\": {**pit, \"keep_alive\": \"1m\"},\n",
    "    },\n",
    "    _source=\"data.subjects.id.sourceIdentifier\",\n",
    "    track_total_hits=True,\n",
    ")\n",
    "\n",
    "results = response[\"hits\"][\"hits\"]\n",
    "total_results = response[\"hits\"][\"total\"][\"value\"]\n",
    "n_batches = math.ceil(total_results / 10_000)\n",
    "loop = tqdm(total=total_results)\n",
    "loop.update(10_000)\n",
    "\n",
    "\n",
    "for i in range(n_batches):\n",
    "    response = remote_es.search(\n",
    "        body={\n",
    "            \"query\": {\"exists\": {\"field\": \"data.subjects\"}},\n",
    "            \"sort\": [{\"_id\": {\"order\": \"asc\"}}],\n",
    "            \"size\": 10_000,\n",
    "            \"pit\": {**pit, \"keep_alive\": \"1m\"},\n",
    "            \"search_after\": results[-1][\"sort\"],\n",
    "        },\n",
    "        _source=\"data.subjects.id.sourceIdentifier\",\n",
    "        track_total_hits=False,\n",
    "    )\n",
    "    results.extend(response[\"hits\"][\"hits\"])\n",
    "    loop.update(10_000)\n",
    "loop.close()\n",
    "\n",
    "remote_es.close_point_in_time(pit)"
   ]
  },
  {
   "cell_type": "code",
   "execution_count": null,
   "id": "339e5c8e-e0f0-432d-9388-0e2524efa629",
   "metadata": {},
   "outputs": [],
   "source": [
    "unique_subjects = set()\n",
    "\n",
    "for result in tqdm(results):\n",
    "    if result[\"_source\"]:\n",
    "        if result[\"_source\"][\"data\"][\"subjects\"]:\n",
    "            for subject in result[\"_source\"][\"data\"][\"subjects\"]:\n",
    "                unique_subjects.add(\n",
    "                    (\n",
    "                        subject[\"id\"][\"sourceIdentifier\"][\"identifierType\"][\"id\"],\n",
    "                        subject[\"id\"][\"sourceIdentifier\"][\"value\"],\n",
    "                    )\n",
    "                )"
   ]
  },
  {
   "cell_type": "code",
   "execution_count": null,
   "id": "7eb4af31-5c95-44cb-a065-bf839d07ac67",
   "metadata": {},
   "outputs": [],
   "source": [
    "len(unique_subjects)"
   ]
  },
  {
   "cell_type": "code",
   "execution_count": null,
   "id": "2e3ac63d-4662-4342-9780-0c84c8327114",
   "metadata": {},
   "outputs": [],
   "source": [
    "df = pd.DataFrame(unique_subjects, columns=[\"id_type\", \"id\"])\n",
    "records = df.to_dict(\"records\")\n",
    "\n",
    "with open(\"../data/unique_subjects.json\", \"w\") as f:\n",
    "    json.dump(records, f)"
   ]
  },
  {
   "cell_type": "code",
   "execution_count": null,
   "id": "9dadaaed-89e7-46c3-8403-71ea81a9a964",
   "metadata": {},
   "outputs": [],
   "source": []
  }
 ],
 "metadata": {
  "kernelspec": {
   "display_name": "Python 3 (ipykernel)",
   "language": "python",
   "name": "python3"
  },
  "language_info": {
   "codemirror_mode": {
    "name": "ipython",
    "version": 3
   },
   "file_extension": ".py",
   "mimetype": "text/x-python",
   "name": "python",
   "nbconvert_exporter": "python",
   "pygments_lexer": "ipython3",
   "version": "3.9.5"
  }
 },
 "nbformat": 4,
 "nbformat_minor": 5
}
