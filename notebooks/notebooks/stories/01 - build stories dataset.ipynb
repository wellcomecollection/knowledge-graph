{
 "cells": [
  {
   "cell_type": "code",
   "execution_count": null,
   "id": "31dbbc78-50c1-4bd2-acf6-e35fa375e3bd",
   "metadata": {},
   "outputs": [],
   "source": [
    "from pathlib import Path\n",
    "\n",
    "import httpx\n",
    "import pandas as pd\n",
    "from tqdm.notebook import tqdm\n",
    "\n",
    "tqdm.pandas()"
   ]
  },
  {
   "cell_type": "code",
   "execution_count": null,
   "id": "87f6a359-de3a-413d-9c56-0e3aefb3224d",
   "metadata": {},
   "outputs": [],
   "source": [
    "import datetime"
   ]
  },
  {
   "cell_type": "code",
   "execution_count": null,
   "id": "afcb728a-c70c-4c30-a245-aab1808907e1",
   "metadata": {},
   "outputs": [],
   "source": [
    "xls = pd.ExcelFile(\"../../data/stories.xlsx\", engine=\"openpyxl\")\n",
    "df = pd.read_excel(xls, \"Articles\", dtype={\"Date published\": datetime.datetime})"
   ]
  },
  {
   "cell_type": "code",
   "execution_count": null,
   "id": "bb2cf2d7-2b53-4aa9-ad02-a54d5d7272f5",
   "metadata": {},
   "outputs": [],
   "source": [
    "get_id = lambda x: Path(x).name"
   ]
  },
  {
   "cell_type": "code",
   "execution_count": null,
   "id": "30b45431-b441-4685-b2b9-618ab0fbb652",
   "metadata": {},
   "outputs": [],
   "source": [
    "df[\"id\"] = df[\"URL\"].apply(get_id)"
   ]
  },
  {
   "cell_type": "code",
   "execution_count": null,
   "id": "f94bc295-8932-48e8-b19a-449d1db38ba9",
   "metadata": {},
   "outputs": [],
   "source": [
    "def get_slices(id):\n",
    "    response = httpx.get(\n",
    "        \"https://wellcomecollection.cdn.prismic.io/api/v2/documents/search\",\n",
    "        params={\"ref\": \"YZZ4mREAACcAWBme\", \"q\": f'[[at(document.id, \"{id}\")]]'},\n",
    "    ).json()\n",
    "    slices = response[\"results\"][0][\"data\"][\"body\"]\n",
    "    return slices\n",
    "\n",
    "\n",
    "def get_fulltext(id):\n",
    "    slices = get_slices(id)\n",
    "    paragraphs = [\n",
    "        paragraph[\"text\"]\n",
    "        for slice in slices\n",
    "        if slice[\"slice_type\"] == \"text\"\n",
    "        for paragraph in slice[\"primary\"][\"text\"]\n",
    "    ]\n",
    "    return \"\\n\".join(paragraphs)\n",
    "\n",
    "\n",
    "def get_standfirst(id):\n",
    "    slices = get_slices(id)\n",
    "    paragraphs = [\n",
    "        paragraph[\"text\"]\n",
    "        for slice in slices\n",
    "        if slice[\"slice_type\"] == \"standfirst\"\n",
    "        for paragraph in slice[\"primary\"][\"text\"]\n",
    "    ]\n",
    "    return \"\\n\".join(paragraphs)"
   ]
  },
  {
   "cell_type": "code",
   "execution_count": null,
   "id": "e296f50a-6d88-4ea5-91af-4d0fdfc22ca3",
   "metadata": {},
   "outputs": [],
   "source": [
    "df[\"fulltext\"] = df[\"id\"].progress_apply(get_fulltext)\n",
    "df[\"standfirst\"] = df[\"id\"].progress_apply(get_standfirst)"
   ]
  },
  {
   "cell_type": "code",
   "execution_count": null,
   "id": "48085640-e88b-49b1-85fe-ce6e447d720b",
   "metadata": {},
   "outputs": [],
   "source": [
    "df.to_json(\"../../data/stories.json\", orient=\"records\")"
   ]
  },
  {
   "cell_type": "code",
   "execution_count": null,
   "id": "beb59930-bdf4-420c-a49a-c38130be5df6",
   "metadata": {},
   "outputs": [],
   "source": []
  }
 ],
 "metadata": {
  "kernelspec": {
   "display_name": "Python 3 (ipykernel)",
   "language": "python",
   "name": "python3"
  },
  "language_info": {
   "codemirror_mode": {
    "name": "ipython",
    "version": 3
   },
   "file_extension": ".py",
   "mimetype": "text/x-python",
   "name": "python",
   "nbconvert_exporter": "python",
   "pygments_lexer": "ipython3",
   "version": "3.8.8"
  }
 },
 "nbformat": 4,
 "nbformat_minor": 5
}
