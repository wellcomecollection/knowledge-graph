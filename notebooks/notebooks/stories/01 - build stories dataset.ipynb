{
 "cells": [
  {
   "cell_type": "code",
   "execution_count": null,
   "id": "31dbbc78-50c1-4bd2-acf6-e35fa375e3bd",
   "metadata": {},
   "outputs": [],
   "source": [
    "import httpx\n",
    "import pandas as pd\n",
    "from pathlib import Path\n",
    "from tqdm.notebook import tqdm\n",
    "\n",
    "tqdm.pandas()"
   ]
  },
  {
   "cell_type": "code",
   "execution_count": null,
   "id": "afcb728a-c70c-4c30-a245-aab1808907e1",
   "metadata": {},
   "outputs": [],
   "source": [
    "xls = pd.ExcelFile('../../data/stories.xlsx', engine='openpyxl')\n",
    "df = pd.read_excel(xls, 'Articles')"
   ]
  },
  {
   "cell_type": "code",
   "execution_count": null,
   "id": "bb2cf2d7-2b53-4aa9-ad02-a54d5d7272f5",
   "metadata": {},
   "outputs": [],
   "source": [
    "get_id = lambda x: Path(x).name"
   ]
  },
  {
   "cell_type": "code",
   "execution_count": null,
   "id": "30b45431-b441-4685-b2b9-618ab0fbb652",
   "metadata": {},
   "outputs": [],
   "source": [
    "df['id'] = df['URL'].apply(get_id)"
   ]
  },
  {
   "cell_type": "code",
   "execution_count": null,
   "id": "1dfe65db-a3be-4fd5-960a-2f56f533e3cd",
   "metadata": {},
   "outputs": [],
   "source": [
    "a = f'[at(document.id, \"{id}\")]'"
   ]
  },
  {
   "cell_type": "code",
   "execution_count": null,
   "id": "f94bc295-8932-48e8-b19a-449d1db38ba9",
   "metadata": {},
   "outputs": [],
   "source": [
    "def get_story_text(id):\n",
    "    response = httpx.get(\n",
    "        \"https://wellcomecollection.cdn.prismic.io/api/v2/documents/search\",\n",
    "        params={\n",
    "            \"ref\": \"YZZ4mREAACcAWBme\",\n",
    "            \"q\": f'[[at(document.id, \"{id}\")]]'\n",
    "        }\n",
    "    ).json()\n",
    "\n",
    "    slices = response['results'][0]['data']['body']\n",
    "    paragraphs = [\n",
    "        paragraph['text']\n",
    "        for slice in slices\n",
    "        if slice['slice_type'] == 'text'\n",
    "        for paragraph in slice['primary']['text']\n",
    "    ]\n",
    "    text = '\\n'.join(paragraphs)\n",
    "    return text"
   ]
  },
  {
   "cell_type": "code",
   "execution_count": null,
   "id": "b4e96166-da28-41e3-af7c-d3c5b915878b",
   "metadata": {},
   "outputs": [],
   "source": [
    "df['fulltext'] = df['id'].progress_apply(get_story_text)"
   ]
  },
  {
   "cell_type": "code",
   "execution_count": null,
   "id": "29b6e205-5f94-4173-82b5-2f878000af4f",
   "metadata": {},
   "outputs": [],
   "source": [
    "df.to_json('../../data/stories.json', orient='records')"
   ]
  },
  {
   "cell_type": "code",
   "execution_count": null,
   "id": "beb59930-bdf4-420c-a49a-c38130be5df6",
   "metadata": {},
   "outputs": [],
   "source": []
  }
 ],
 "metadata": {
  "kernelspec": {
   "display_name": "Python 3 (ipykernel)",
   "language": "python",
   "name": "python3"
  },
  "language_info": {
   "codemirror_mode": {
    "name": "ipython",
    "version": 3
   },
   "file_extension": ".py",
   "mimetype": "text/x-python",
   "name": "python",
   "nbconvert_exporter": "python",
   "pygments_lexer": "ipython3",
   "version": "3.8.8"
  }
 },
 "nbformat": 4,
 "nbformat_minor": 5
}
