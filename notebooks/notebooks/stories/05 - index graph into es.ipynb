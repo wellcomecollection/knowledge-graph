{
 "cells": [
  {
   "cell_type": "code",
   "execution_count": null,
   "id": "71b2727b-29b4-4ddf-b6d3-d9fc66ffd4ed",
   "metadata": {},
   "outputs": [],
   "source": [
    "import json\n",
    "import os\n",
    "\n",
    "import httpx\n",
    "import numpy as np\n",
    "import pandas as pd\n",
    "from elasticsearch import Elasticsearch\n",
    "from neomodel import (\n",
    "    DateProperty,\n",
    "    IntegerProperty,\n",
    "    Relationship,\n",
    "    RelationshipFrom,\n",
    "    RelationshipTo,\n",
    "    StringProperty,\n",
    "    StructuredNode,\n",
    "    UniqueIdProperty,\n",
    "    clear_neo4j_database,\n",
    "    config,\n",
    "    db,\n",
    ")\n",
    "from tqdm.notebook import tqdm"
   ]
  },
  {
   "cell_type": "code",
   "execution_count": null,
   "id": "efebac11-f91f-43eb-8e99-e837b8b0e7a6",
   "metadata": {},
   "outputs": [],
   "source": [
    "config.DATABASE_URL = os.environ[\"NEO4J_BOLT_URL\"]\n",
    "db.set_connection(os.environ[\"NEO4J_BOLT_URL\"])"
   ]
  },
  {
   "cell_type": "code",
   "execution_count": null,
   "id": "d0b7ce73-3151-4b35-aa5f-851101dfda6f",
   "metadata": {},
   "outputs": [],
   "source": [
    "class Concept(StructuredNode):\n",
    "    uid = UniqueIdProperty()\n",
    "    name = StringProperty(unique_index=True, required=True)\n",
    "    variant_name = RelationshipTo(\"VariantName\", \"AKA\")\n",
    "    stories = RelationshipTo(\"Story\", \"HAS_CONCEPT\")\n",
    "\n",
    "\n",
    "class Contributor(StructuredNode):\n",
    "    uid = UniqueIdProperty()\n",
    "    name = StringProperty(unique_index=True, required=True)\n",
    "    variant_name = RelationshipTo(\"VariantName\", \"AKA\")\n",
    "    stories = RelationshipTo(\"Story\", \"CONTRIBUTED_TO\")\n",
    "\n",
    "\n",
    "class Story(StructuredNode):\n",
    "    uid = UniqueIdProperty()\n",
    "    title = StringProperty(unique_index=True, required=True)\n",
    "    published = DateProperty()\n",
    "    contributor = RelationshipFrom(\"Contributor\", \"CONTRIBUTED_TO\")\n",
    "    concept = RelationshipFrom(\"Concept\", \"HAS_CONCEPT\")\n",
    "\n",
    "\n",
    "class VariantName(StructuredNode):\n",
    "    uid = UniqueIdProperty()\n",
    "    name = StringProperty(unique_index=True, required=True)\n",
    "    concept = RelationshipFrom(\"Concept\", \"AKA\")"
   ]
  },
  {
   "cell_type": "code",
   "execution_count": null,
   "id": "6a483f69-3468-4d4e-95bf-0fcb488815ff",
   "metadata": {},
   "outputs": [],
   "source": [
    "Story.nodes.all()[:5]"
   ]
  },
  {
   "cell_type": "code",
   "execution_count": null,
   "id": "06acd5a0-ed38-4feb-b6c1-3b8fb82b91e3",
   "metadata": {},
   "outputs": [],
   "source": [
    "random_story_uid = np.random.choice(Story.nodes.all()).uid\n",
    "random_story_uid"
   ]
  },
  {
   "cell_type": "code",
   "execution_count": null,
   "id": "a6be18c7-e29f-49af-9dba-ec7e21950148",
   "metadata": {},
   "outputs": [],
   "source": [
    "node = Story.nodes.get(uid=random_story_uid)\n",
    "node"
   ]
  },
  {
   "cell_type": "code",
   "execution_count": null,
   "id": "3d0b7e44-f35d-4303-bfb7-0e197fcb5d14",
   "metadata": {},
   "outputs": [],
   "source": [
    "concepts_on_node = [concept.name for concept in node.concept.all()]\n",
    "concepts_on_node"
   ]
  },
  {
   "cell_type": "code",
   "execution_count": null,
   "id": "d92636a6-8a1f-484f-a543-4376d280fea3",
   "metadata": {},
   "outputs": [],
   "source": [
    "variants_on_concepts_on_node = [\n",
    "    variant.name\n",
    "    for concept in node.concept.all()\n",
    "    for variant in concept.variant_name.all()\n",
    "]\n",
    "variants_on_concepts_on_node"
   ]
  },
  {
   "cell_type": "markdown",
   "id": "120d797e-7fc0-40c9-9a82-ecab34955807",
   "metadata": {},
   "source": [
    "# index into es using data from graph"
   ]
  },
  {
   "cell_type": "code",
   "execution_count": null,
   "id": "3e25941f-1655-4235-8085-f24f0e28a2ec",
   "metadata": {},
   "outputs": [],
   "source": [
    "import os\n",
    "from elasticsearch import Elasticsearch\n",
    "from tqdm.notebook import tqdm"
   ]
  },
  {
   "cell_type": "code",
   "execution_count": null,
   "id": "061b1b74-1071-4dfa-a18c-5a10a6698b85",
   "metadata": {},
   "outputs": [],
   "source": [
    "es = Elasticsearch(\n",
    "    os.environ[\"ELASTIC_HOST\"],\n",
    "    http_auth=(os.environ[\"ELASTIC_USERNAME\"], os.environ[\"ELASTIC_PASSWORD\"]),\n",
    ")"
   ]
  },
  {
   "cell_type": "code",
   "execution_count": null,
   "id": "04c38446-1ce8-4f8e-a4d7-c1a7cc6ccc74",
   "metadata": {},
   "outputs": [],
   "source": [
    "INDEX_NAME = \"graph-enriched\""
   ]
  },
  {
   "cell_type": "code",
   "execution_count": null,
   "id": "d0b71905-a346-485a-984a-5d7be2a7ad8f",
   "metadata": {},
   "outputs": [],
   "source": [
    "es.indices.delete(index=INDEX_NAME, ignore=404)"
   ]
  },
  {
   "cell_type": "code",
   "execution_count": null,
   "id": "513b315e-a9b5-4809-8035-460a906edd88",
   "metadata": {},
   "outputs": [],
   "source": [
    "es.indices.create(index=INDEX_NAME)"
   ]
  },
  {
   "cell_type": "code",
   "execution_count": null,
   "id": "edc055a9-7a0d-45b9-b34c-17ff858ca685",
   "metadata": {},
   "outputs": [],
   "source": [
    "for story in tqdm(Story.nodes.all()):\n",
    "    concepts_on_node = [concept.name for concept in node.concept.all()]\n",
    "    variants_on_concepts_on_node = [\n",
    "        variant.name\n",
    "        for concept in node.concept.all()\n",
    "        for variant in concept.variant_name.all()\n",
    "    ]\n",
    "\n",
    "    document = {\n",
    "        \"title\": story.title,\n",
    "        \"published\": story.published,\n",
    "        \"concepts\": concepts_on_node,\n",
    "        \"variants\": variants_on_concepts_on_node\n",
    "    }\n",
    "    \n",
    "    for field, value in document.items():\n",
    "        if type(value) == list:\n",
    "            document[field] = \",\".join(value)\n",
    "\n",
    "    es.index(index=INDEX_NAME, document=document)"
   ]
  },
  {
   "cell_type": "code",
   "execution_count": null,
   "id": "405c4469-b0ec-4e5a-b7d7-04562df66508",
   "metadata": {},
   "outputs": [],
   "source": []
  }
 ],
 "metadata": {
  "kernelspec": {
   "display_name": "Python 3 (ipykernel)",
   "language": "python",
   "name": "python3"
  },
  "language_info": {
   "codemirror_mode": {
    "name": "ipython",
    "version": 3
   },
   "file_extension": ".py",
   "mimetype": "text/x-python",
   "name": "python",
   "nbconvert_exporter": "python",
   "pygments_lexer": "ipython3",
   "version": "3.8.8"
  }
 },
 "nbformat": 4,
 "nbformat_minor": 5
}
