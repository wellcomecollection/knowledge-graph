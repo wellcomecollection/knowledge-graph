{
 "cells": [
  {
   "cell_type": "code",
   "execution_count": null,
   "id": "1d6a5eca-a12d-4b40-8445-b381e84be0cd",
   "metadata": {},
   "outputs": [],
   "source": [
    "import json \n",
    "\n",
    "def read_and_yield_jsonl(file_name):\n",
    "    for row in open(file_name, \"r\"):\n",
    "        yield json.loads(row)"
   ]
  },
  {
   "cell_type": "code",
   "execution_count": null,
   "id": "2c59a85d-df95-4290-98ab-0bd7fab327d0",
   "metadata": {},
   "outputs": [],
   "source": []
  },
  {
   "cell_type": "code",
   "execution_count": null,
   "id": "b1cae59b-1d3b-4d14-913c-a2d3a8563118",
   "metadata": {},
   "outputs": [],
   "source": [
    "x = read_and_yield_jsonl(\"../../data/works.json\")"
   ]
  },
  {
   "cell_type": "code",
   "execution_count": null,
   "id": "95617939-ff7d-48fd-9c72-49b1d19d50e6",
   "metadata": {},
   "outputs": [],
   "source": [
    "work = next(x)"
   ]
  },
  {
   "cell_type": "code",
   "execution_count": null,
   "id": "3b3f5159-523d-40d1-bbdc-7d1556e73c46",
   "metadata": {},
   "outputs": [],
   "source": [
    "while not (work['genres'] and work['subjects']):\n",
    "    work = next(x)\n",
    "    \n",
    "work"
   ]
  },
  {
   "cell_type": "code",
   "execution_count": null,
   "id": "73bfa06a-21a5-402b-9e13-82e4225aa7f5",
   "metadata": {},
   "outputs": [],
   "source": []
  }
 ],
 "metadata": {
  "kernelspec": {
   "display_name": "Python 3 (ipykernel)",
   "language": "python",
   "name": "python3"
  },
  "language_info": {
   "codemirror_mode": {
    "name": "ipython",
    "version": 3
   },
   "file_extension": ".py",
   "mimetype": "text/x-python",
   "name": "python",
   "nbconvert_exporter": "python",
   "pygments_lexer": "ipython3",
   "version": "3.8.8"
  }
 },
 "nbformat": 4,
 "nbformat_minor": 5
}
