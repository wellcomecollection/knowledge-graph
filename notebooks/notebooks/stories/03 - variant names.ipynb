{
 "cells": [
  {
   "cell_type": "code",
   "execution_count": null,
   "id": "a79696ec-7270-4e1f-8d3f-d7cba5bfd716",
   "metadata": {},
   "outputs": [],
   "source": [
    "import json\n",
    "import os\n",
    "\n",
    "import httpx\n",
    "import pandas as pd\n",
    "from elasticsearch import Elasticsearch\n",
    "from tqdm.notebook import tqdm"
   ]
  },
  {
   "cell_type": "code",
   "execution_count": null,
   "id": "29e9aca1-5703-4d0c-81b9-e51023dfe501",
   "metadata": {},
   "outputs": [],
   "source": [
    "df = pd.read_json(\"../../data/stories.json\")"
   ]
  },
  {
   "cell_type": "code",
   "execution_count": null,
   "id": "fb272194-21ec-46ce-9e38-790c2da13cb3",
   "metadata": {},
   "outputs": [],
   "source": [
    "df[\"Keywords\"]"
   ]
  },
  {
   "cell_type": "code",
   "execution_count": null,
   "id": "ea5e7570-e227-43a2-af67-e01d7a05d184",
   "metadata": {},
   "outputs": [],
   "source": [
    "def clean(input_string):\n",
    "    return input_string.strip().lower().replace(\",\", \"\")"
   ]
  },
  {
   "cell_type": "code",
   "execution_count": null,
   "id": "4b6cae7b-231f-44b6-8843-f4b52b18db22",
   "metadata": {},
   "outputs": [],
   "source": [
    "df[\"concepts\"] = df[\"Keywords\"].apply(\n",
    "    lambda x: [clean(y) for y in str(x).split(\", \") if y != \"\"]\n",
    ")"
   ]
  },
  {
   "cell_type": "code",
   "execution_count": null,
   "id": "347314fc-2591-4b26-a8ff-366e1267d2ce",
   "metadata": {},
   "outputs": [],
   "source": [
    "unique_concepts = list(\n",
    "    set([concept for set_of_concepts in df[\"concepts\"] for concept in set_of_concepts])\n",
    ")"
   ]
  },
  {
   "cell_type": "code",
   "execution_count": null,
   "id": "fc24588c-7e99-4d63-83e2-59943e133fee",
   "metadata": {},
   "outputs": [],
   "source": [
    "len(unique_concepts)"
   ]
  },
  {
   "cell_type": "code",
   "execution_count": null,
   "id": "5c5bacff-0261-471a-81a8-fc715fde9e02",
   "metadata": {},
   "outputs": [],
   "source": [
    "concept = unique_concepts[2]"
   ]
  },
  {
   "cell_type": "code",
   "execution_count": null,
   "id": "d75a2491-246a-4d1b-8761-7c2dedb0df82",
   "metadata": {},
   "outputs": [],
   "source": [
    "def get_variant_names(\n",
    "    concept, languages=[\"en\", \"en-gb\", \"en-ca\", \"en-us\", \"en-simple\"]\n",
    "):\n",
    "    response = httpx.get(\n",
    "        \"https://www.wikidata.org/w/api.php\",\n",
    "        params={\n",
    "            \"action\": \"wbsearchentities\",\n",
    "            \"language\": \"en\",\n",
    "            \"format\": \"json\",\n",
    "            \"search\": concept,\n",
    "        },\n",
    "    ).json()\n",
    "\n",
    "    try:\n",
    "        # naively select the first result\n",
    "        wikidata_id = response[\"search\"][0][\"id\"]\n",
    "\n",
    "        response = httpx.get(\n",
    "            f\"http://www.wikidata.org/wiki/Special:EntityData/{wikidata_id}.json\"\n",
    "        ).json()\n",
    "\n",
    "        data = response[\"entities\"][wikidata_id]\n",
    "        labels = [\n",
    "            label[\"value\"]\n",
    "            for label in data[\"labels\"].values()\n",
    "            if label[\"language\"] in languages\n",
    "        ]\n",
    "        aliases = [\n",
    "            alias[\"value\"]\n",
    "            for group in data[\"aliases\"].values()\n",
    "            for alias in group\n",
    "            if alias[\"language\"] in languages\n",
    "        ]\n",
    "        variant_names = list(set([clean(name) for name in labels + aliases]))\n",
    "\n",
    "    except (IndexError, KeyError):\n",
    "        variant_names = []\n",
    "\n",
    "    return variant_names"
   ]
  },
  {
   "cell_type": "code",
   "execution_count": null,
   "id": "510e34a2-658d-47f9-b91d-f23a45e834c7",
   "metadata": {},
   "outputs": [],
   "source": [
    "get_variant_names(\"water\")"
   ]
  },
  {
   "cell_type": "code",
   "execution_count": null,
   "id": "127d7df6-adb7-49ab-9779-25f35479ca10",
   "metadata": {},
   "outputs": [],
   "source": [
    "variants = {concept: get_variant_names(concept) for concept in tqdm(unique_concepts)}"
   ]
  },
  {
   "cell_type": "code",
   "execution_count": null,
   "id": "4d26a19b-75fd-48bd-8562-0737095a360f",
   "metadata": {},
   "outputs": [],
   "source": [
    "v = [v for l in variants.values() for v in l]"
   ]
  },
  {
   "cell_type": "code",
   "execution_count": null,
   "id": "d95ce646-edb1-4b11-bab5-910f302ef164",
   "metadata": {},
   "outputs": [],
   "source": [
    "# 638\n",
    "len(v)"
   ]
  },
  {
   "cell_type": "code",
   "execution_count": null,
   "id": "846c0eab-b71c-4689-8678-d652c3c18230",
   "metadata": {},
   "outputs": [],
   "source": [
    "# 625\n",
    "len(set(v))"
   ]
  },
  {
   "cell_type": "code",
   "execution_count": null,
   "id": "487628fe-14a2-4738-9c6c-a4f696dc0f24",
   "metadata": {},
   "outputs": [],
   "source": [
    "from collections import Counter\n",
    "\n",
    "c = Counter(v)"
   ]
  },
  {
   "cell_type": "code",
   "execution_count": null,
   "id": "5c6eaa6d-c356-45e5-9be4-7d263323bfd4",
   "metadata": {},
   "outputs": [],
   "source": [
    "[name for name in c if c[name] > 1]"
   ]
  },
  {
   "cell_type": "markdown",
   "id": "5e5802d0-b540-4d14-84ad-92e1d2ce2440",
   "metadata": {},
   "source": [
    "## find intersections"
   ]
  },
  {
   "cell_type": "code",
   "execution_count": null,
   "id": "1cf66782-ebfc-4dc8-b800-315038dc8595",
   "metadata": {},
   "outputs": [],
   "source": [
    "for concept_1, variant_names in tqdm(variants.items()):\n",
    "    for concept_2 in variants.keys():\n",
    "        if concept_2 in variant_names and concept_1 != concept_2:\n",
    "            print(f\"{concept_1} is linked to {concept_2}\")"
   ]
  },
  {
   "cell_type": "code",
   "execution_count": null,
   "id": "254212a3-586f-4453-a597-63f478c6970e",
   "metadata": {},
   "outputs": [],
   "source": [
    "for concept_1, variant_names_1 in tqdm(variants.items()):\n",
    "    for concept_2, variant_names_2 in variants.items():\n",
    "        intersection = set(variant_names_1).intersection(set(variant_names_2))\n",
    "        if intersection and concept_1 != concept_2:\n",
    "            print(f\"{concept_1} is linked to {concept_2} via {intersection}\")"
   ]
  },
  {
   "cell_type": "code",
   "execution_count": null,
   "id": "d46f3505-94f8-4b02-8089-55af8a4cf91d",
   "metadata": {},
   "outputs": [],
   "source": [
    "variants"
   ]
  },
  {
   "cell_type": "code",
   "execution_count": null,
   "id": "0ef4df19-7da7-433e-acc8-de170170601b",
   "metadata": {},
   "outputs": [],
   "source": [
    "df[\"concepts_expanded\"] = df[\"concepts\"].apply(\n",
    "    lambda concepts: [variant for concept in concepts for variant in variants[concept]]\n",
    ")"
   ]
  },
  {
   "cell_type": "code",
   "execution_count": null,
   "id": "f926dd46-107f-4844-9b57-d36d2a074b4c",
   "metadata": {},
   "outputs": [],
   "source": [
    "df['concepts_expanded']"
   ]
  },
  {
   "cell_type": "markdown",
   "id": "e6cc3ccc-baaa-44c0-8e62-14a3d29206bc",
   "metadata": {},
   "source": [
    "# index with variants"
   ]
  },
  {
   "cell_type": "code",
   "execution_count": null,
   "id": "3e25941f-1655-4235-8085-f24f0e28a2ec",
   "metadata": {},
   "outputs": [],
   "source": [
    "import os\n",
    "\n",
    "import pandas as pd\n",
    "from elasticsearch import Elasticsearch\n",
    "from tqdm.notebook import tqdm\n",
    "import json"
   ]
  },
  {
   "cell_type": "code",
   "execution_count": null,
   "id": "061b1b74-1071-4dfa-a18c-5a10a6698b85",
   "metadata": {},
   "outputs": [],
   "source": [
    "es = Elasticsearch(\n",
    "    os.environ[\"ELASTIC_HOST\"],\n",
    "    http_auth=(os.environ[\"ELASTIC_USERNAME\"], os.environ[\"ELASTIC_PASSWORD\"]),\n",
    ")"
   ]
  },
  {
   "cell_type": "code",
   "execution_count": null,
   "id": "04c38446-1ce8-4f8e-a4d7-c1a7cc6ccc74",
   "metadata": {},
   "outputs": [],
   "source": [
    "INDEX_NAME = \"stories\""
   ]
  },
  {
   "cell_type": "code",
   "execution_count": null,
   "id": "6cc10bf0-2cff-4f66-a338-972d6e900a07",
   "metadata": {},
   "outputs": [],
   "source": [
    "with open('../../data/stories/mapping.json', 'r') as f:\n",
    "    mappings = json.load(f)\n",
    "\n",
    "with open('../../data/stories/settings.json', 'r') as f:\n",
    "    settings = json.load(f)"
   ]
  },
  {
   "cell_type": "code",
   "execution_count": null,
   "id": "d0b71905-a346-485a-984a-5d7be2a7ad8f",
   "metadata": {},
   "outputs": [],
   "source": [
    "es.indices.delete(index=INDEX_NAME, ignore=404)"
   ]
  },
  {
   "cell_type": "code",
   "execution_count": null,
   "id": "513b315e-a9b5-4809-8035-460a906edd88",
   "metadata": {},
   "outputs": [],
   "source": [
    "es.indices.create(index=INDEX_NAME, mappings=mappings, settings=settings)"
   ]
  },
  {
   "cell_type": "code",
   "execution_count": null,
   "id": "8b049eff-7084-487c-ae38-9b320f7cd7c6",
   "metadata": {},
   "outputs": [],
   "source": [
    "df"
   ]
  },
  {
   "cell_type": "code",
   "execution_count": null,
   "id": "edc055a9-7a0d-45b9-b34c-17ff858ca685",
   "metadata": {},
   "outputs": [],
   "source": [
    "for index, row in tqdm(df.iterrows(), total=len(df)):\n",
    "    document = row.to_dict()\n",
    "    for field, value in document.items():\n",
    "        if type(value) == list:\n",
    "            document[field] = ','.join(value)\n",
    "    es.index(index=\"stories\", document=document)"
   ]
  },
  {
   "cell_type": "code",
   "execution_count": null,
   "id": "e8beac31-3dba-44bd-976d-c159d45696d4",
   "metadata": {},
   "outputs": [],
   "source": []
  }
 ],
 "metadata": {
  "kernelspec": {
   "display_name": "Python 3 (ipykernel)",
   "language": "python",
   "name": "python3"
  },
  "language_info": {
   "codemirror_mode": {
    "name": "ipython",
    "version": 3
   },
   "file_extension": ".py",
   "mimetype": "text/x-python",
   "name": "python",
   "nbconvert_exporter": "python",
   "pygments_lexer": "ipython3",
   "version": "3.8.8"
  }
 },
 "nbformat": 4,
 "nbformat_minor": 5
}
