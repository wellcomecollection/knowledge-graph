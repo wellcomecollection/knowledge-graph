{
 "cells": [
  {
   "cell_type": "code",
   "execution_count": null,
   "id": "3e25941f-1655-4235-8085-f24f0e28a2ec",
   "metadata": {},
   "outputs": [],
   "source": [
    "import os\n",
    "\n",
    "import pandas as pd\n",
    "from elasticsearch import Elasticsearch\n",
    "from tqdm.notebook import tqdm\n",
    "import json"
   ]
  },
  {
   "cell_type": "code",
   "execution_count": null,
   "id": "b713224d-793c-430a-ad48-0a45ffba3d07",
   "metadata": {},
   "outputs": [],
   "source": [
    "df = pd.read_json(\"../../data/stories.json\")"
   ]
  },
  {
   "cell_type": "code",
   "execution_count": null,
   "id": "061b1b74-1071-4dfa-a18c-5a10a6698b85",
   "metadata": {},
   "outputs": [],
   "source": [
    "es = Elasticsearch(\n",
    "    os.environ[\"ELASTIC_HOST\"],\n",
    "    http_auth=(os.environ[\"ELASTIC_USERNAME\"], os.environ[\"ELASTIC_PASSWORD\"]),\n",
    ")"
   ]
  },
  {
   "cell_type": "code",
   "execution_count": null,
   "id": "04c38446-1ce8-4f8e-a4d7-c1a7cc6ccc74",
   "metadata": {},
   "outputs": [],
   "source": [
    "INDEX_NAME = \"stories\""
   ]
  },
  {
   "cell_type": "code",
   "execution_count": null,
   "id": "6cc10bf0-2cff-4f66-a338-972d6e900a07",
   "metadata": {},
   "outputs": [],
   "source": [
    "with open('../../data/stories/mapping.json', 'r') as f:\n",
    "    mappings = json.load(f)\n",
    "\n",
    "with open('../../data/stories/settings.json', 'r') as f:\n",
    "    settings = json.load(f)"
   ]
  },
  {
   "cell_type": "code",
   "execution_count": null,
   "id": "d0b71905-a346-485a-984a-5d7be2a7ad8f",
   "metadata": {},
   "outputs": [],
   "source": [
    "es.indices.delete(index=INDEX_NAME, ignore=404)"
   ]
  },
  {
   "cell_type": "code",
   "execution_count": null,
   "id": "513b315e-a9b5-4809-8035-460a906edd88",
   "metadata": {},
   "outputs": [],
   "source": [
    "es.indices.create(index=INDEX_NAME, mappings=mappings, settings=settings)"
   ]
  },
  {
   "cell_type": "code",
   "execution_count": null,
   "id": "edc055a9-7a0d-45b9-b34c-17ff858ca685",
   "metadata": {},
   "outputs": [],
   "source": [
    "for index, row in tqdm(df.iterrows(), total=len(df)):\n",
    "    es.index(index=\"stories\", document=row.to_dict())"
   ]
  },
  {
   "cell_type": "code",
   "execution_count": null,
   "id": "1a3fab92-8a3c-4ad3-a4f3-874f3a1e9dce",
   "metadata": {},
   "outputs": [],
   "source": []
  }
 ],
 "metadata": {
  "kernelspec": {
   "display_name": "Python 3 (ipykernel)",
   "language": "python",
   "name": "python3"
  },
  "language_info": {
   "codemirror_mode": {
    "name": "ipython",
    "version": 3
   },
   "file_extension": ".py",
   "mimetype": "text/x-python",
   "name": "python",
   "nbconvert_exporter": "python",
   "pygments_lexer": "ipython3",
   "version": "3.8.8"
  }
 },
 "nbformat": 4,
 "nbformat_minor": 5
}
