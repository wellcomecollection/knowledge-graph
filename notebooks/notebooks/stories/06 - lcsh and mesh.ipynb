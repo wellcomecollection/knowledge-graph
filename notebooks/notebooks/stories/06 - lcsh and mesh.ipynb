{
 "cells": [
  {
   "cell_type": "code",
   "execution_count": null,
   "id": "0809d935-129a-4989-8610-812790b4b83b",
   "metadata": {},
   "outputs": [],
   "source": [
    "import httpx\n",
    "from httpx import ConnectError\n",
    "\n",
    "\n",
    "def clean(input_string):\n",
    "    return input_string.strip().lower().replace(\",\", \"\")\n",
    "\n",
    "\n",
    "def clean_csv(input_string):\n",
    "    return [clean(y) for y in str(input_string).split(\", \") if y != \"\"]\n",
    "\n",
    "\n",
    "def get_wikidata_id(concept_name):\n",
    "    response = httpx.get(\n",
    "        \"https://www.wikidata.org/w/api.php\",\n",
    "        params={\n",
    "            \"action\": \"wbsearchentities\",\n",
    "            \"language\": \"en\",\n",
    "            \"format\": \"json\",\n",
    "            \"search\": concept_name,\n",
    "        },\n",
    "    ).json()\n",
    "\n",
    "    # naively select the first result\n",
    "    wikidata_id = response[\"search\"][0][\"id\"]\n",
    "    return wikidata_id\n",
    "\n",
    "\n",
    "def get_wikidata(wikidata_id):\n",
    "    response = httpx.get(\n",
    "        \"http://www.wikidata.org/wiki/Special:EntityData/\" f\"{wikidata_id}.json\"\n",
    "    ).json()\n",
    "\n",
    "    data = response[\"entities\"][wikidata_id]\n",
    "\n",
    "    return data\n",
    "\n",
    "\n",
    "def get_variant_names(\n",
    "    concept_name, languages=[\"en\", \"en-gb\", \"en-ca\", \"en-us\", \"en-simple\"]\n",
    "):\n",
    "    try:\n",
    "        wikidata_id = get_wikidata_id(concept_name)\n",
    "        data = get_wikidata(wikidata_id)\n",
    "        labels = [\n",
    "            label[\"value\"]\n",
    "            for label in data[\"labels\"].values()\n",
    "            if label[\"language\"] in languages\n",
    "        ]\n",
    "        aliases = [\n",
    "            alias[\"value\"]\n",
    "            for group in data[\"aliases\"].values()\n",
    "            for alias in group\n",
    "            if alias[\"language\"] in languages\n",
    "        ]\n",
    "        variant_names = list(set([clean(name) for name in labels + aliases]))\n",
    "\n",
    "    except (IndexError, KeyError, ConnectError):\n",
    "        variant_names = []\n",
    "\n",
    "    return variant_names\n",
    "\n",
    "\n",
    "def get_description(concept_name):\n",
    "    try:\n",
    "        wikidata_id = get_wikidata_id(concept_name)\n",
    "        response = httpx.get(\n",
    "            \"http://www.wikidata.org/wiki/Special:EntityData/\" f\"{wikidata_id}.json\"\n",
    "        ).json()\n",
    "\n",
    "        data = response[\"entities\"][wikidata_id]\n",
    "        description = data[\"descriptions\"][\"en\"][\"value\"]\n",
    "\n",
    "    except (IndexError, KeyError, ConnectError):\n",
    "        description = \"\"\n",
    "\n",
    "    return description"
   ]
  },
  {
   "cell_type": "code",
   "execution_count": null,
   "id": "96c19c6a-cf76-4967-8c57-c657574bc0e7",
   "metadata": {},
   "outputs": [],
   "source": [
    "wikidata_id = \"Q1420\"\n",
    "wikidata = get_wikidata(wikidata_id)"
   ]
  },
  {
   "cell_type": "markdown",
   "id": "9ea3c2b6-721b-4bbd-9aab-c002b3038dea",
   "metadata": {},
   "source": [
    "# lcsh"
   ]
  },
  {
   "cell_type": "code",
   "execution_count": null,
   "id": "ebfd2918-36f3-42be-bb4a-27af47d45c70",
   "metadata": {},
   "outputs": [],
   "source": [
    "try:\n",
    "    lcsh_id = wikidata[\"claims\"][\"P244\"][0][\"mainsnak\"][\"datavalue\"][\"value\"]\n",
    "except (KeyError, IndexError):\n",
    "    lcsh_id = None"
   ]
  },
  {
   "cell_type": "code",
   "execution_count": null,
   "id": "ed76bf01-0a82-454a-b420-6361d1ada435",
   "metadata": {},
   "outputs": [],
   "source": [
    "lcsh_id"
   ]
  },
  {
   "cell_type": "code",
   "execution_count": null,
   "id": "338ff4be-69a5-4f28-b6f1-506832e685f2",
   "metadata": {},
   "outputs": [],
   "source": [
    "url = f\"http://id.loc.gov/authorities/subjects/{lcsh_id}.json\"\n",
    "\n",
    "try:\n",
    "    response = httpx.get(url)\n",
    "except ValueError as e:\n",
    "    raise e\n",
    "if response.status_code == 200:\n",
    "    pass\n",
    "elif response.status_code == 404:\n",
    "    raise ValueError(f\"{lcsh_id} is not a valid library of congress ID\")\n",
    "else:\n",
    "    raise ValueError(f\"something unexpected happened when calling url: {url}\")\n",
    "\n",
    "for element in response.json():\n",
    "    if element[\"@id\"] == url.replace(\".json\", \"\"):\n",
    "        lcsh_data = element"
   ]
  },
  {
   "cell_type": "code",
   "execution_count": null,
   "id": "b59ae9dc-9d9e-4447-a4fb-bb7cccd203e6",
   "metadata": {},
   "outputs": [],
   "source": [
    "[label[\"@value\"] for label in lcsh_data[\"http://www.w3.org/2004/02/skos/core#altLabel\"]]"
   ]
  },
  {
   "cell_type": "code",
   "execution_count": null,
   "id": "3b5a5f84-182b-4dea-aeda-133345509310",
   "metadata": {},
   "outputs": [],
   "source": [
    "[\n",
    "    label[\"@value\"]\n",
    "    for label in lcsh_data[\"http://www.w3.org/2004/02/skos/core#prefLabel\"]\n",
    "]"
   ]
  },
  {
   "cell_type": "markdown",
   "id": "e55a5839-8b99-4917-a7c8-3930e4dbc492",
   "metadata": {},
   "source": [
    "# mesh"
   ]
  },
  {
   "cell_type": "code",
   "execution_count": null,
   "id": "6b3d8df0-0e60-4403-82cd-47999cdaeb9e",
   "metadata": {},
   "outputs": [],
   "source": [
    "try:\n",
    "    mesh_id = wikidata[\"claims\"][\"P486\"][0][\"mainsnak\"][\"datavalue\"][\"value\"]\n",
    "except (KeyError, IndexError):\n",
    "    mesh_id = None"
   ]
  },
  {
   "cell_type": "code",
   "execution_count": null,
   "id": "9b33fe66-b105-4f21-b3cb-5dba50f1bdb9",
   "metadata": {},
   "outputs": [],
   "source": [
    "mesh_id"
   ]
  },
  {
   "cell_type": "code",
   "execution_count": null,
   "id": "bbfa9004-fdba-4105-ac20-d76df32fa854",
   "metadata": {},
   "outputs": [],
   "source": [
    "response = httpx.get(\n",
    "    url=\"https://meshb.nlm.nih.gov/api/search/record\",\n",
    "    params={\n",
    "        \"searchInField\": \"ui\",\n",
    "        \"sort\": \"\",\n",
    "        \"size\": \"1\",\n",
    "        \"searchType\": \"exactMatch\",\n",
    "        \"searchMethod\": \"FullWord\",\n",
    "        \"q\": mesh_id,\n",
    "    },\n",
    ")\n",
    "try:\n",
    "    generated_response = response.json()[\"hits\"][\"hits\"][0][\"_source\"][\"_generated\"]\n",
    "except IndexError:\n",
    "    raise ValueError(f\"{mesh_id} is not a valid MeSH ID\")\n",
    "except KeyError:\n",
    "    requested_url = response.url\n",
    "    raise ValueError(f\"something unexpected happened when calling url: {requested_url}\")\n",
    "generated_response"
   ]
  },
  {
   "cell_type": "code",
   "execution_count": null,
   "id": "5fd646be-4103-46e9-ab9d-0c54606ec157",
   "metadata": {},
   "outputs": [],
   "source": []
  },
  {
   "cell_type": "code",
   "execution_count": null,
   "id": "52073629-66df-47e0-9b68-014d50e498a5",
   "metadata": {},
   "outputs": [],
   "source": []
  }
 ],
 "metadata": {
  "kernelspec": {
   "display_name": "Python 3 (ipykernel)",
   "language": "python",
   "name": "python3"
  },
  "language_info": {
   "codemirror_mode": {
    "name": "ipython",
    "version": 3
   },
   "file_extension": ".py",
   "mimetype": "text/x-python",
   "name": "python",
   "nbconvert_exporter": "python",
   "pygments_lexer": "ipython3",
   "version": "3.8.8"
  }
 },
 "nbformat": 4,
 "nbformat_minor": 5
}
