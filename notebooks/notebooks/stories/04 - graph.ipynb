{
 "cells": [
  {
   "cell_type": "code",
   "execution_count": null,
   "id": "6ce5e6fb-ae02-4838-8133-417b6b881e87",
   "metadata": {},
   "outputs": [],
   "source": [
    "import httpx"
   ]
  },
  {
   "cell_type": "code",
   "execution_count": null,
   "id": "dd607ea2-afe2-48f8-adc9-93bbef59a90d",
   "metadata": {},
   "outputs": [],
   "source": [
    "a = httpx.get('http://neo4j:7474')"
   ]
  },
  {
   "cell_type": "code",
   "execution_count": null,
   "id": "eb2568b6-55dc-41bb-bc3a-143d6c1ac5bd",
   "metadata": {},
   "outputs": [],
   "source": [
    "a.json()"
   ]
  },
  {
   "cell_type": "code",
   "execution_count": null,
   "id": "c81d4b14-3459-4002-8118-d76c4fd1fe3e",
   "metadata": {},
   "outputs": [],
   "source": []
  }
 ],
 "metadata": {
  "kernelspec": {
   "display_name": "Python 3 (ipykernel)",
   "language": "python",
   "name": "python3"
  },
  "language_info": {
   "codemirror_mode": {
    "name": "ipython",
    "version": 3
   },
   "file_extension": ".py",
   "mimetype": "text/x-python",
   "name": "python",
   "nbconvert_exporter": "python",
   "pygments_lexer": "ipython3",
   "version": "3.8.8"
  }
 },
 "nbformat": 4,
 "nbformat_minor": 5
}
