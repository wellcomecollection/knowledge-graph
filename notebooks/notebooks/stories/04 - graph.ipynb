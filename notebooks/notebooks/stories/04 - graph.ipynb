{
 "cells": [
  {
   "cell_type": "markdown",
   "id": "c81d4b14-3459-4002-8118-d76c4fd1fe3e",
   "metadata": {},
   "source": [
    "By the end of this notebook, I want to make something that looks like this in neo4j\n",
    "\n",
    "![](./structure.png)"
   ]
  },
  {
   "cell_type": "code",
   "execution_count": null,
   "id": "57a3d9bb-9d50-4fdb-b001-16019efb33ad",
   "metadata": {},
   "outputs": [],
   "source": [
    "import json\n",
    "import os\n",
    "\n",
    "import httpx\n",
    "import pandas as pd\n",
    "from elasticsearch import Elasticsearch\n",
    "from neomodel import (\n",
    "    DateProperty,\n",
    "    IntegerProperty,\n",
    "    Relationship,\n",
    "    RelationshipFrom,\n",
    "    RelationshipTo,\n",
    "    StringProperty,\n",
    "    StructuredNode,\n",
    "    UniqueIdProperty,\n",
    "    clear_neo4j_database,\n",
    "    config,\n",
    "    db,\n",
    ")\n",
    "from tqdm.notebook import tqdm"
   ]
  },
  {
   "cell_type": "code",
   "execution_count": null,
   "id": "2d1aa608-fec4-445b-986e-7228b70b6bd8",
   "metadata": {},
   "outputs": [],
   "source": [
    "config.DATABASE_URL = os.environ[\"NEO4J_BOLT_URL\"]\n",
    "db.set_connection(os.environ[\"NEO4J_BOLT_URL\"])\n",
    "clear_neo4j_database(db)"
   ]
  },
  {
   "cell_type": "markdown",
   "id": "8a2761cc",
   "metadata": {},
   "source": [
    "## super simple stories ingest"
   ]
  },
  {
   "cell_type": "code",
   "execution_count": null,
   "id": "d0b7ce73-3151-4b35-aa5f-851101dfda6f",
   "metadata": {},
   "outputs": [],
   "source": [
    "class Concept(StructuredNode):\n",
    "    uid = UniqueIdProperty()\n",
    "    name = StringProperty(unique_index=True, required=True)\n",
    "    variant_name = RelationshipTo(\"VariantName\", \"AKA\")\n",
    "    stories = RelationshipTo(\"Story\", \"HAS_CONCEPT\")\n",
    "\n",
    "\n",
    "class Contributor(StructuredNode):\n",
    "    uid = UniqueIdProperty()\n",
    "    name = StringProperty(unique_index=True, required=True)\n",
    "    variant_name = RelationshipTo(\"VariantName\", \"AKA\")\n",
    "    stories = RelationshipTo(\"Story\", \"CONTRIBUTED_TO\")\n",
    "\n",
    "\n",
    "class Story(StructuredNode):\n",
    "    uid = UniqueIdProperty()\n",
    "    title = StringProperty(unique_index=True, required=True)\n",
    "    published = DateProperty()\n",
    "    contributor = RelationshipFrom(\"Contributor\", \"CONTRIBUTED_TO\")\n",
    "    concept = RelationshipFrom(\"Concept\", \"HAS_CONCEPT\")\n",
    "\n",
    "\n",
    "class VariantName(StructuredNode):\n",
    "    uid = UniqueIdProperty()\n",
    "    name = StringProperty(unique_index=True, required=True)\n",
    "    concept = RelationshipFrom(\"Concept\", \"AKA\")"
   ]
  },
  {
   "cell_type": "code",
   "execution_count": null,
   "id": "29e9aca1-5703-4d0c-81b9-e51023dfe501",
   "metadata": {},
   "outputs": [],
   "source": [
    "df = pd.read_json(\"../../data/stories.json\").fillna(\"\")"
   ]
  },
  {
   "cell_type": "code",
   "execution_count": null,
   "id": "b0a650df-15af-4a68-899d-1629e86b4ee0",
   "metadata": {
    "tags": []
   },
   "outputs": [],
   "source": [
    "df[\"Date published\"] = pd.to_datetime(df[\"Date published\"], unit=\"ms\")"
   ]
  },
  {
   "cell_type": "markdown",
   "id": "c3e590b4-4538-4c04-b609-7ccd354d8daa",
   "metadata": {},
   "source": [
    "### create all the stories"
   ]
  },
  {
   "cell_type": "code",
   "execution_count": null,
   "id": "b7fb0f85-28fa-4b7c-911e-3fa576a6afae",
   "metadata": {},
   "outputs": [],
   "source": [
    "stories = {}\n",
    "for _, story_data in tqdm(df.iterrows(), total=len(df)):\n",
    "    story = Story(\n",
    "        title=story_data[\"Title\"], published=story_data[\"Date published\"].date()\n",
    "    ).save()\n",
    "    stories[story_data[\"Title\"]] = story"
   ]
  },
  {
   "cell_type": "markdown",
   "id": "de5c501b-8b49-4dff-a3db-81070931dda5",
   "metadata": {},
   "source": [
    "### create all the contributors"
   ]
  },
  {
   "cell_type": "code",
   "execution_count": null,
   "id": "e1c99a3a-7ba9-4322-8428-a90f141c2f05",
   "metadata": {},
   "outputs": [],
   "source": [
    "unique_contributors = list(\n",
    "    set(\n",
    "        [\n",
    "            name.strip()\n",
    "            for authors, images_by in df[[\"Author\", \"Images by\"]].values\n",
    "            for name in (authors.split(\",\") + images_by.split(\",\"))\n",
    "            if name.strip() != \"\"\n",
    "        ]\n",
    "    )\n",
    ")\n",
    "\n",
    "\n",
    "contributors = {}\n",
    "for name in tqdm(unique_contributors):\n",
    "    contributor = Contributor(name=name).save()\n",
    "    contributors[name] = contributor"
   ]
  },
  {
   "cell_type": "markdown",
   "id": "1a894263-d958-4c26-ab42-9d0884b5064d",
   "metadata": {},
   "source": [
    "### create all the concepts"
   ]
  },
  {
   "cell_type": "code",
   "execution_count": null,
   "id": "772537a7-c049-406f-8c3d-e6a370c6410f",
   "metadata": {},
   "outputs": [],
   "source": [
    "unique_concepts = list(\n",
    "    set(\n",
    "        [\n",
    "            concept.strip()\n",
    "            for concepts in df[\"Keywords\"].values\n",
    "            for concept in concepts.split(\",\")\n",
    "            if concept.strip() != \"\"\n",
    "        ]\n",
    "    )\n",
    ")\n",
    "\n",
    "\n",
    "concepts = {}\n",
    "for name in tqdm(unique_concepts):\n",
    "    concept = Concept(name=name).save()\n",
    "    concepts[name] = concept"
   ]
  },
  {
   "cell_type": "markdown",
   "id": "763b36ef-bfba-4c9c-b16d-a0022f945c2d",
   "metadata": {},
   "source": [
    "### connect them up"
   ]
  },
  {
   "cell_type": "code",
   "execution_count": null,
   "id": "09892c6c-6a10-4283-8676-12328a43fb47",
   "metadata": {
    "tags": []
   },
   "outputs": [],
   "source": [
    "for index, story_data in tqdm(df.iterrows(), total=len(df)):\n",
    "    story = stories[story_data[\"Title\"]]\n",
    "\n",
    "    contributor_names = [\n",
    "        name.strip()\n",
    "        for name in (\n",
    "            story_data[\"Author\"].split(\",\") + story_data[\"Images by\"].split(\",\")\n",
    "        )\n",
    "        if name.strip() != \"\"\n",
    "    ]\n",
    "    for name in contributor_names:\n",
    "        contributor = contributors[name]\n",
    "        story.contributor.connect(contributor)\n",
    "\n",
    "    concept_names = [\n",
    "        concept.strip()\n",
    "        for concept in story_data[\"Keywords\"].split(\",\")\n",
    "        if concept.strip() != \"\"\n",
    "    ]\n",
    "    for name in concept_names:\n",
    "        concept = concepts[name]\n",
    "        story.concept.connect(concept)"
   ]
  },
  {
   "cell_type": "markdown",
   "id": "ce31073b-97f3-41cc-8f27-cdf2280d42eb",
   "metadata": {},
   "source": [
    "### create variant names"
   ]
  },
  {
   "cell_type": "code",
   "execution_count": null,
   "id": "7647f408-e10f-436f-9c53-e118d2fae03e",
   "metadata": {},
   "outputs": [],
   "source": [
    "def clean(input_string):\n",
    "    return input_string.strip().lower().replace(\",\", \"\")\n",
    "\n",
    "\n",
    "def get_variant_names(\n",
    "    concept, languages=[\"en\", \"en-gb\", \"en-ca\", \"en-us\", \"en-simple\"]\n",
    "):\n",
    "    response = httpx.get(\n",
    "        \"https://www.wikidata.org/w/api.php\",\n",
    "        params={\n",
    "            \"action\": \"wbsearchentities\",\n",
    "            \"language\": \"en\",\n",
    "            \"format\": \"json\",\n",
    "            \"search\": concept,\n",
    "        },\n",
    "    ).json()\n",
    "\n",
    "    try:\n",
    "        # naively select the first result\n",
    "        wikidata_id = response[\"search\"][0][\"id\"]\n",
    "\n",
    "        response = httpx.get(\n",
    "            f\"http://www.wikidata.org/wiki/Special:EntityData/{wikidata_id}.json\"\n",
    "        ).json()\n",
    "\n",
    "        data = response[\"entities\"][wikidata_id]\n",
    "        labels = [\n",
    "            label[\"value\"]\n",
    "            for label in data[\"labels\"].values()\n",
    "            if label[\"language\"] in languages\n",
    "        ]\n",
    "        aliases = [\n",
    "            alias[\"value\"]\n",
    "            for group in data[\"aliases\"].values()\n",
    "            for alias in group\n",
    "            if alias[\"language\"] in languages\n",
    "        ]\n",
    "        variant_names = list(set([clean(name) for name in labels + aliases]))\n",
    "\n",
    "    except (IndexError, KeyError):\n",
    "        variant_names = []\n",
    "\n",
    "    return variant_names"
   ]
  },
  {
   "cell_type": "code",
   "execution_count": null,
   "id": "98a52dee-3cb0-4569-a84f-2de485fc529e",
   "metadata": {},
   "outputs": [],
   "source": [
    "variants = {concept: get_variant_names(concept) for concept in tqdm(unique_concepts)}"
   ]
  },
  {
   "cell_type": "code",
   "execution_count": null,
   "id": "8a452cc1-068f-48b7-a9c3-d9775d212dfc",
   "metadata": {},
   "outputs": [],
   "source": [
    "all_variant_name_edges = [\n",
    "    (concept_core_name, variant_name)\n",
    "    for concept_core_name, variant_names in tqdm(variants.items())\n",
    "    for variant_name in variant_names\n",
    "    if variant_name != concept_core_name\n",
    "]"
   ]
  },
  {
   "cell_type": "code",
   "execution_count": null,
   "id": "af2b036c-7cfb-4e3f-b7a9-f748ccb680ed",
   "metadata": {},
   "outputs": [],
   "source": [
    "unique_variant_names = list(set([edge[1] for edge in all_variant_name_edges]))"
   ]
  },
  {
   "cell_type": "code",
   "execution_count": null,
   "id": "83d75492-d6ff-419d-a939-ebda1428446b",
   "metadata": {},
   "outputs": [],
   "source": [
    "variant_dict = {}\n",
    "for variant_name in tqdm(unique_variant_names):\n",
    "    v = VariantName(name=variant_name).save()\n",
    "    variant_dict[variant_name] = v"
   ]
  },
  {
   "cell_type": "markdown",
   "id": "d97c34c6-4bc9-4059-a0b6-6a943394741d",
   "metadata": {},
   "source": [
    "### connect them up"
   ]
  },
  {
   "cell_type": "code",
   "execution_count": null,
   "id": "a0db5191-0146-4645-8827-0e509c7c0366",
   "metadata": {},
   "outputs": [],
   "source": [
    "for concept_core_name, variant_name in tqdm(all_variant_name_edges):\n",
    "    concept = concepts[concept_core_name]\n",
    "    variant = variant_dict[variant_name]\n",
    "    concept.variant_name.connect(variant)"
   ]
  },
  {
   "cell_type": "raw",
   "id": "3ec3df9a-7460-4387-ac33-8f92a3803792",
   "metadata": {},
   "source": [
    "clear_neo4j_database(db)"
   ]
  }
 ],
 "metadata": {
  "kernelspec": {
   "display_name": "Python 3 (ipykernel)",
   "language": "python",
   "name": "python3"
  },
  "language_info": {
   "codemirror_mode": {
    "name": "ipython",
    "version": 3
   },
   "file_extension": ".py",
   "mimetype": "text/x-python",
   "name": "python",
   "nbconvert_exporter": "python",
   "pygments_lexer": "ipython3",
   "version": "3.8.8"
  }
 },
 "nbformat": 4,
 "nbformat_minor": 5
}
